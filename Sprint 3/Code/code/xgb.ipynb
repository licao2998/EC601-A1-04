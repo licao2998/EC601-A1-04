{
 "cells": [
  {
   "cell_type": "markdown",
   "id": "e3f6c3d5",
   "metadata": {
    "papermill": {
     "duration": 0.005938,
     "end_time": "2022-07-18T23:28:54.445795",
     "exception": false,
     "start_time": "2022-07-18T23:28:54.439857",
     "status": "completed"
    },
    "tags": []
   },
   "source": [
    "# Load Libraries"
   ]
  },
  {
   "cell_type": "code",
   "execution_count": 1,
   "id": "238e648d",
   "metadata": {
    "execution": {
     "iopub.execute_input": "2022-07-18T23:28:54.459628Z",
     "iopub.status.busy": "2022-07-18T23:28:54.459051Z",
     "iopub.status.idle": "2022-07-18T23:28:58.469073Z",
     "shell.execute_reply": "2022-07-18T23:28:58.466361Z"
    },
    "papermill": {
     "duration": 4.019172,
     "end_time": "2022-07-18T23:28:58.471754",
     "exception": false,
     "start_time": "2022-07-18T23:28:54.452582",
     "status": "completed"
    },
    "tags": []
   },
   "outputs": [],
   "source": [
    "# LOAD LIBRARIES\n",
    "import pandas as pd, numpy as np # CPU libraries\n",
    "import matplotlib.pyplot as plt, gc, os\n",
    "\n",
    "GPU = True\n",
    "try:\n",
    "    import cupy, cudf\n",
    "except ImportError:\n",
    "    GPU = False\n",
    "\n",
    "# if GPU:\n",
    "#     print('RAPIDS version',cudf.__version__)\n",
    "# else:\n",
    "#     print(\"Disabling cudf, using pandas instead\")\n",
    "cudf = pd"
   ]
  },
  {
   "cell_type": "code",
   "execution_count": 2,
   "id": "64c559d5",
   "metadata": {
    "execution": {
     "iopub.execute_input": "2022-07-18T23:28:58.483710Z",
     "iopub.status.busy": "2022-07-18T23:28:58.483415Z",
     "iopub.status.idle": "2022-07-18T23:28:58.489690Z",
     "shell.execute_reply": "2022-07-18T23:28:58.488934Z"
    },
    "papermill": {
     "duration": 0.014592,
     "end_time": "2022-07-18T23:28:58.491918",
     "exception": false,
     "start_time": "2022-07-18T23:28:58.477326",
     "status": "completed"
    },
    "tags": []
   },
   "outputs": [
    {
     "name": "stdout",
     "output_type": "stream",
     "text": [
      "VER: 1\n",
      "fVER: 111\n"
     ]
    }
   ],
   "source": [
    "# VERSION NAME FOR SAVED MODEL FILES\n",
    "VER = 1\n",
    "FEATURE_VER = 111\n",
    "\n",
    "# RANDOM SEED\n",
    "SEED = 108+5*VER+100*FEATURE_VER\n",
    "\n",
    "# FOLDS PER MODEL\n",
    "FOLDS = 5\n",
    "\n",
    "# NOTEBOOK PATH\n",
    "FEATURE_PATH = './'\n",
    "\n",
    "DO_SUBMIT = False\n",
    "\n",
    "print(\"VER:\", VER)\n",
    "print(\"fVER:\", FEATURE_VER)"
   ]
  },
  {
   "cell_type": "markdown",
   "id": "5737b14f",
   "metadata": {
    "papermill": {
     "duration": 0.005006,
     "end_time": "2022-07-18T23:28:58.502778",
     "exception": false,
     "start_time": "2022-07-18T23:28:58.497772",
     "status": "completed"
    },
    "tags": []
   },
   "source": [
    "# Load Data\n",
    "Feature engineering is all done in: https://www.kaggle.com/code/roberthatch/amex-feature-engg-gpu-or-cpu-process-in-chunks"
   ]
  },
  {
   "cell_type": "code",
   "execution_count": 3,
   "id": "00a0a0bb",
   "metadata": {},
   "outputs": [],
   "source": [
    "def do_miss_nan(df):\n",
    "    # Impute missing values\n",
    "#     df.fillna(value=-1, inplace=True)\n",
    "    # Replace inf with zeros \n",
    "    df.replace([np.inf, -np.inf], np.nan, inplace=True)\n",
    "    # Reduce memory\n",
    "    for c in df.columns:\n",
    "      if c in get_not_used(): continue\n",
    "      if str( df[c].dtype )=='int64':\n",
    "          df[c] = df[c].astype('int32')\n",
    "      if str(df[c].dtype )=='float64':\n",
    "          df[c] = df[c].astype('float32')\n",
    "    return df\n",
    "def get_not_used():  \n",
    "  return ['row_id', 'customer_ID', 'target', 'cid', 'S_2','D_103','D_139']    \n",
    "\n",
    "# train = do_miss_nan(train)\n",
    "# test = do_miss_nan(test)"
   ]
  },
  {
   "cell_type": "code",
   "execution_count": 4,
   "id": "180d26f8",
   "metadata": {
    "execution": {
     "iopub.execute_input": "2022-07-18T23:28:58.514903Z",
     "iopub.status.busy": "2022-07-18T23:28:58.514223Z",
     "iopub.status.idle": "2022-07-18T23:29:29.129302Z",
     "shell.execute_reply": "2022-07-18T23:29:29.128490Z"
    },
    "papermill": {
     "duration": 30.629656,
     "end_time": "2022-07-18T23:29:29.137611",
     "exception": false,
     "start_time": "2022-07-18T23:28:58.507955",
     "status": "completed"
    },
    "tags": []
   },
   "outputs": [
    {
     "name": "stdout",
     "output_type": "stream",
     "text": [
      "Reading train data...\n",
      "(458913, 2291)\n"
     ]
    },
    {
     "data": {
      "text/html": [
       "<div>\n",
       "<style scoped>\n",
       "    .dataframe tbody tr th:only-of-type {\n",
       "        vertical-align: middle;\n",
       "    }\n",
       "\n",
       "    .dataframe tbody tr th {\n",
       "        vertical-align: top;\n",
       "    }\n",
       "\n",
       "    .dataframe thead th {\n",
       "        text-align: right;\n",
       "    }\n",
       "</style>\n",
       "<table border=\"1\" class=\"dataframe\">\n",
       "  <thead>\n",
       "    <tr style=\"text-align: right;\">\n",
       "      <th></th>\n",
       "      <th>customer_ID</th>\n",
       "      <th>S_2</th>\n",
       "      <th>P_2</th>\n",
       "      <th>D_39</th>\n",
       "      <th>B_1</th>\n",
       "      <th>B_2</th>\n",
       "      <th>R_1</th>\n",
       "      <th>S_3</th>\n",
       "      <th>D_41</th>\n",
       "      <th>B_3</th>\n",
       "      <th>...</th>\n",
       "      <th>D_143_min-max</th>\n",
       "      <th>D_144-mean</th>\n",
       "      <th>D_144-div-mean</th>\n",
       "      <th>D_144_min_div_max</th>\n",
       "      <th>D_144_min-max</th>\n",
       "      <th>D_145-mean</th>\n",
       "      <th>D_145-div-mean</th>\n",
       "      <th>D_145_min_div_max</th>\n",
       "      <th>D_145_min-max</th>\n",
       "      <th>target</th>\n",
       "    </tr>\n",
       "  </thead>\n",
       "  <tbody>\n",
       "    <tr>\n",
       "      <th>0</th>\n",
       "      <td>836ab8c9b793c103f527c9921ae5cf298358301dcbf3a8...</td>\n",
       "      <td>2018-03-23</td>\n",
       "      <td>0.419922</td>\n",
       "      <td>0.0</td>\n",
       "      <td>0.059998</td>\n",
       "      <td>0.330078</td>\n",
       "      <td>0.000000</td>\n",
       "      <td>0.140015</td>\n",
       "      <td>0.000000</td>\n",
       "      <td>0.040009</td>\n",
       "      <td>...</td>\n",
       "      <td>0.0</td>\n",
       "      <td>-0.005386</td>\n",
       "      <td>0.000000</td>\n",
       "      <td>0.0</td>\n",
       "      <td>-0.010002</td>\n",
       "      <td>0.0</td>\n",
       "      <td>1.0</td>\n",
       "      <td>1.0</td>\n",
       "      <td>0.0</td>\n",
       "      <td>0</td>\n",
       "    </tr>\n",
       "    <tr>\n",
       "      <th>1</th>\n",
       "      <td>dc17e1cb25b4a6ba4edd43886ec9109db7815de4c2e747...</td>\n",
       "      <td>2018-03-14</td>\n",
       "      <td>0.879883</td>\n",
       "      <td>31.0</td>\n",
       "      <td>0.049988</td>\n",
       "      <td>1.009766</td>\n",
       "      <td>0.010002</td>\n",
       "      <td>-0.020004</td>\n",
       "      <td>0.000000</td>\n",
       "      <td>0.000000</td>\n",
       "      <td>...</td>\n",
       "      <td>0.0</td>\n",
       "      <td>-0.005386</td>\n",
       "      <td>0.000000</td>\n",
       "      <td>0.0</td>\n",
       "      <td>-0.010002</td>\n",
       "      <td>0.0</td>\n",
       "      <td>NaN</td>\n",
       "      <td>NaN</td>\n",
       "      <td>0.0</td>\n",
       "      <td>0</td>\n",
       "    </tr>\n",
       "    <tr>\n",
       "      <th>2</th>\n",
       "      <td>be6d78f47fefcc32b5d9968bad7aaf652d33ac48d527ce...</td>\n",
       "      <td>2018-03-18</td>\n",
       "      <td>0.919922</td>\n",
       "      <td>16.0</td>\n",
       "      <td>0.010002</td>\n",
       "      <td>0.819824</td>\n",
       "      <td>0.000000</td>\n",
       "      <td>0.180054</td>\n",
       "      <td>0.000000</td>\n",
       "      <td>0.010002</td>\n",
       "      <td>...</td>\n",
       "      <td>0.0</td>\n",
       "      <td>0.004616</td>\n",
       "      <td>1.857422</td>\n",
       "      <td>0.0</td>\n",
       "      <td>-0.010002</td>\n",
       "      <td>0.0</td>\n",
       "      <td>NaN</td>\n",
       "      <td>NaN</td>\n",
       "      <td>0.0</td>\n",
       "      <td>0</td>\n",
       "    </tr>\n",
       "    <tr>\n",
       "      <th>3</th>\n",
       "      <td>db6f04e450d7f754ff48a22fe780cd20a89d62c6a23853...</td>\n",
       "      <td>2018-03-17</td>\n",
       "      <td>0.529785</td>\n",
       "      <td>0.0</td>\n",
       "      <td>0.300049</td>\n",
       "      <td>0.070007</td>\n",
       "      <td>0.500000</td>\n",
       "      <td>0.250000</td>\n",
       "      <td>0.300049</td>\n",
       "      <td>0.540039</td>\n",
       "      <td>...</td>\n",
       "      <td>0.0</td>\n",
       "      <td>0.046143</td>\n",
       "      <td>4.332031</td>\n",
       "      <td>0.0</td>\n",
       "      <td>-0.070007</td>\n",
       "      <td>0.0</td>\n",
       "      <td>1.0</td>\n",
       "      <td>1.0</td>\n",
       "      <td>0.0</td>\n",
       "      <td>0</td>\n",
       "    </tr>\n",
       "    <tr>\n",
       "      <th>4</th>\n",
       "      <td>df335a6aa4d994a1c7008cde8bccb08ec49d942bb2cc97...</td>\n",
       "      <td>2018-03-02</td>\n",
       "      <td>0.859863</td>\n",
       "      <td>21.0</td>\n",
       "      <td>0.020004</td>\n",
       "      <td>1.009766</td>\n",
       "      <td>0.010002</td>\n",
       "      <td>0.090027</td>\n",
       "      <td>0.000000</td>\n",
       "      <td>0.000000</td>\n",
       "      <td>...</td>\n",
       "      <td>0.0</td>\n",
       "      <td>0.003078</td>\n",
       "      <td>1.444336</td>\n",
       "      <td>0.0</td>\n",
       "      <td>-0.010002</td>\n",
       "      <td>0.0</td>\n",
       "      <td>NaN</td>\n",
       "      <td>NaN</td>\n",
       "      <td>0.0</td>\n",
       "      <td>0</td>\n",
       "    </tr>\n",
       "  </tbody>\n",
       "</table>\n",
       "<p>5 rows × 2291 columns</p>\n",
       "</div>"
      ],
      "text/plain": [
       "                                         customer_ID        S_2       P_2  \\\n",
       "0  836ab8c9b793c103f527c9921ae5cf298358301dcbf3a8... 2018-03-23  0.419922   \n",
       "1  dc17e1cb25b4a6ba4edd43886ec9109db7815de4c2e747... 2018-03-14  0.879883   \n",
       "2  be6d78f47fefcc32b5d9968bad7aaf652d33ac48d527ce... 2018-03-18  0.919922   \n",
       "3  db6f04e450d7f754ff48a22fe780cd20a89d62c6a23853... 2018-03-17  0.529785   \n",
       "4  df335a6aa4d994a1c7008cde8bccb08ec49d942bb2cc97... 2018-03-02  0.859863   \n",
       "\n",
       "   D_39       B_1       B_2       R_1       S_3      D_41       B_3  ...  \\\n",
       "0   0.0  0.059998  0.330078  0.000000  0.140015  0.000000  0.040009  ...   \n",
       "1  31.0  0.049988  1.009766  0.010002 -0.020004  0.000000  0.000000  ...   \n",
       "2  16.0  0.010002  0.819824  0.000000  0.180054  0.000000  0.010002  ...   \n",
       "3   0.0  0.300049  0.070007  0.500000  0.250000  0.300049  0.540039  ...   \n",
       "4  21.0  0.020004  1.009766  0.010002  0.090027  0.000000  0.000000  ...   \n",
       "\n",
       "   D_143_min-max  D_144-mean  D_144-div-mean  D_144_min_div_max  \\\n",
       "0            0.0   -0.005386        0.000000                0.0   \n",
       "1            0.0   -0.005386        0.000000                0.0   \n",
       "2            0.0    0.004616        1.857422                0.0   \n",
       "3            0.0    0.046143        4.332031                0.0   \n",
       "4            0.0    0.003078        1.444336                0.0   \n",
       "\n",
       "   D_144_min-max  D_145-mean  D_145-div-mean  D_145_min_div_max  \\\n",
       "0      -0.010002         0.0             1.0                1.0   \n",
       "1      -0.010002         0.0             NaN                NaN   \n",
       "2      -0.010002         0.0             NaN                NaN   \n",
       "3      -0.070007         0.0             1.0                1.0   \n",
       "4      -0.010002         0.0             NaN                NaN   \n",
       "\n",
       "   D_145_min-max  target  \n",
       "0            0.0       0  \n",
       "1            0.0       0  \n",
       "2            0.0       0  \n",
       "3            0.0       0  \n",
       "4            0.0       0  \n",
       "\n",
       "[5 rows x 2291 columns]"
      ]
     },
     "execution_count": 4,
     "metadata": {},
     "output_type": "execute_result"
    }
   ],
   "source": [
    "print('Reading train data...')\n",
    "TRAIN_PATH = f'{FEATURE_PATH}train_fe_v1.pickle'\n",
    "train = pd.read_pickle(TRAIN_PATH)\n",
    "print(train.shape)\n",
    "train = do_miss_nan(train)\n",
    "train = train.sample(frac=1, random_state=SEED)\n",
    "train = train.reset_index(drop=True)\n",
    "train.head()"
   ]
  },
  {
   "cell_type": "markdown",
   "id": "72248fc8",
   "metadata": {
    "papermill": {
     "duration": 0.005417,
     "end_time": "2022-07-18T23:29:29.148723",
     "exception": false,
     "start_time": "2022-07-18T23:29:29.143306",
     "status": "completed"
    },
    "tags": []
   },
   "source": [
    "# Train XGB\n",
    "We will train using `DeviceQuantileDMatrix`. This has a very small GPU memory footprint."
   ]
  },
  {
   "cell_type": "code",
   "execution_count": 5,
   "id": "f93ea99a",
   "metadata": {
    "execution": {
     "iopub.execute_input": "2022-07-18T23:29:29.161182Z",
     "iopub.status.busy": "2022-07-18T23:29:29.160869Z",
     "iopub.status.idle": "2022-07-18T23:29:29.274081Z",
     "shell.execute_reply": "2022-07-18T23:29:29.273186Z"
    },
    "papermill": {
     "duration": 0.121728,
     "end_time": "2022-07-18T23:29:29.275987",
     "exception": false,
     "start_time": "2022-07-18T23:29:29.154259",
     "status": "completed"
    },
    "tags": []
   },
   "outputs": [
    {
     "name": "stdout",
     "output_type": "stream",
     "text": [
      "XGB Version 1.6.1\n"
     ]
    }
   ],
   "source": [
    "# LOAD XGB LIBRARY\n",
    "from sklearn.model_selection import KFold\n",
    "import xgboost as xgb\n",
    "print('XGB Version',xgb.__version__)\n",
    "\n",
    "\n",
    "# XGB MODEL PARAMETERS\n",
    "BASE_LEARNING_RATE = 0.01\n",
    "xgb_params = { \n",
    "    'max_depth': 7,\n",
    "    'subsample':0.75,\n",
    "    'colsample_bytree': 0.35,\n",
    "    'gamma':1.5,\n",
    "    'lambda':70,\n",
    "    'min_child_weight':8,\n",
    "\n",
    "    'objective':'binary:logistic',\n",
    "    'eval_metric':['logloss', 'auc'],  ## Early stopping is based on the last metric listed.\n",
    "    'tree_method':'gpu_hist',\n",
    "    'predictor':'gpu_predictor',\n",
    "    'random_state':SEED,\n",
    "\n",
    "    'num_parallel_tree':1\n",
    "}"
   ]
  },
  {
   "cell_type": "code",
   "execution_count": 6,
   "id": "1f52e886",
   "metadata": {
    "execution": {
     "iopub.execute_input": "2022-07-18T23:29:29.290340Z",
     "iopub.status.busy": "2022-07-18T23:29:29.289051Z",
     "iopub.status.idle": "2022-07-18T23:29:29.299018Z",
     "shell.execute_reply": "2022-07-18T23:29:29.298306Z"
    },
    "papermill": {
     "duration": 0.018468,
     "end_time": "2022-07-18T23:29:29.300762",
     "exception": false,
     "start_time": "2022-07-18T23:29:29.282294",
     "status": "completed"
    },
    "tags": []
   },
   "outputs": [],
   "source": [
    "# NEEDED WITH DeviceQuantileDMatrix BELOW\n",
    "class IterLoadForDMatrix(xgb.core.DataIter):\n",
    "    def __init__(self, df=None, features=None, target=None, batch_size=256*1024):\n",
    "        self.features = features\n",
    "        self.target = target\n",
    "        self.df = df\n",
    "        self.it = 0 # set iterator to 0\n",
    "        self.batch_size = batch_size\n",
    "        self.batches = int( np.ceil( len(df) / self.batch_size ) )\n",
    "        super().__init__()\n",
    "\n",
    "    def reset(self):\n",
    "        '''Reset the iterator'''\n",
    "        self.it = 0\n",
    "\n",
    "    def next(self, input_data):\n",
    "        '''Yield next batch of data.'''\n",
    "        if self.it == self.batches:\n",
    "            return 0 # Return 0 when there's no more batch.\n",
    "        \n",
    "        a = self.it * self.batch_size\n",
    "        b = min( (self.it + 1) * self.batch_size, len(self.df) )\n",
    "        dt = cudf.DataFrame(self.df.iloc[a:b])\n",
    "        input_data(data=dt[self.features], label=dt[self.target]) #, weight=dt['weight'])\n",
    "        self.it += 1\n",
    "        return 1"
   ]
  },
  {
   "cell_type": "code",
   "execution_count": 7,
   "id": "ed9ee252",
   "metadata": {
    "execution": {
     "iopub.execute_input": "2022-07-18T23:29:29.313798Z",
     "iopub.status.busy": "2022-07-18T23:29:29.313498Z",
     "iopub.status.idle": "2022-07-18T23:29:29.324319Z",
     "shell.execute_reply": "2022-07-18T23:29:29.323475Z"
    },
    "papermill": {
     "duration": 0.019206,
     "end_time": "2022-07-18T23:29:29.326063",
     "exception": false,
     "start_time": "2022-07-18T23:29:29.306857",
     "status": "completed"
    },
    "tags": []
   },
   "outputs": [],
   "source": [
    "## TODO, replace with newer version.\n",
    "\n",
    "# https://www.kaggle.com/kyakovlev\n",
    "# https://www.kaggle.com/competitions/amex-default-prediction/discussion/327534\n",
    "def amex_metric_mod(y_true, y_pred):\n",
    "\n",
    "    labels     = np.transpose(np.array([y_true, y_pred]))\n",
    "    labels     = labels[labels[:, 1].argsort()[::-1]]\n",
    "    weights    = np.where(labels[:,0]==0, 20, 1)\n",
    "    cut_vals   = labels[np.cumsum(weights) <= int(0.04 * np.sum(weights))]\n",
    "    top_four   = np.sum(cut_vals[:,0]) / np.sum(labels[:,0])\n",
    "\n",
    "    gini = [0,0]\n",
    "    for i in [1,0]:\n",
    "        labels         = np.transpose(np.array([y_true, y_pred]))\n",
    "        labels         = labels[labels[:, i].argsort()[::-1]]\n",
    "        weight         = np.where(labels[:,0]==0, 20, 1)\n",
    "        weight_random  = np.cumsum(weight / np.sum(weight))\n",
    "        total_pos      = np.sum(labels[:, 0] *  weight)\n",
    "        cum_pos_found  = np.cumsum(labels[:, 0] * weight)\n",
    "        lorentz        = cum_pos_found / total_pos\n",
    "        gini[i]        = np.sum((lorentz - weight_random) * weight)\n",
    "\n",
    "    print(\"  4%  :\", top_four)\n",
    "    print(\"  Gini:\", gini[1]/gini[0])\n",
    "    print(\"Kaggle:\", 0.5 * (gini[1]/gini[0] + top_four))\n",
    "    return 0.5 * (gini[1]/gini[0] + top_four)"
   ]
  },
  {
   "cell_type": "code",
   "execution_count": 11,
   "id": "d7d2208f",
   "metadata": {
    "execution": {
     "iopub.execute_input": "2022-07-18T23:29:29.339233Z",
     "iopub.status.busy": "2022-07-18T23:29:29.338932Z",
     "iopub.status.idle": "2022-07-18T23:29:29.359324Z",
     "shell.execute_reply": "2022-07-18T23:29:29.358549Z"
    },
    "papermill": {
     "duration": 0.028819,
     "end_time": "2022-07-18T23:29:29.360965",
     "exception": false,
     "start_time": "2022-07-18T23:29:29.332146",
     "status": "completed"
    },
    "scrolled": true,
    "tags": []
   },
   "outputs": [],
   "source": [
    "importances = []\n",
    "PYRAMID_W = [0.5, 2/3, 0.75, 0.875, 1, 0]\n",
    "\n",
    "def run_training(train, features):\n",
    "    oof = []\n",
    "\n",
    "    skf = KFold(n_splits=FOLDS)\n",
    "    for fold,(train_idx, valid_idx) in enumerate(skf.split(\n",
    "                train, train.target )):\n",
    "        print('#'*25)\n",
    "        print('### Fold',fold+1)\n",
    "    \n",
    "        # TRAIN, VALID, TEST FOR FOLD K\n",
    "#         Xy_train = IterLoadForDMatrix(train.loc[train_idx], features, 'target')\n",
    "        X_train = train.loc[train_idx, features]\n",
    "        y_train = train.loc[train_idx, 'target']\n",
    "        \n",
    "        X_valid = train.loc[valid_idx, features]\n",
    "        y_valid = train.loc[valid_idx, 'target']\n",
    "\n",
    "        print('### Train size',len(train_idx),'Valid size',len(valid_idx),'Valid positives',y_valid.sum())\n",
    "        print(f'### Training with all of fold data...')\n",
    "        print('#'*25)\n",
    "        dtrain = xgb.DMatrix(data=X_train, label=y_train)\n",
    "\n",
    "#         dtrain = xgb.DeviceQuantileDMatrix(Xy_train, max_bin=256)\n",
    "        dvalid = xgb.DMatrix(data=X_valid, label=y_valid)\n",
    "\n",
    "        # TRAIN MODEL FOLD K\n",
    "        # PYRAMID: Smoothly go from diverse forest of early trees into focused boosted trees correcting residuals.\n",
    "        #   final layer must have w==0\n",
    "        #   columns:    forest|boost|adj_eta|w\n",
    "        pyramid_layers = [(100,  10,  1.56,  0.5),\n",
    "                          ( 20,  50,  1.3,   2/3),\n",
    "                          (  1,1000,  1.25,  0.75),\n",
    "                          (  1,1000,  1.125, 0.875),\n",
    "                          (  1,3000,  1.0,   1),\n",
    "                          (  1,9000,  0.5,   0)]\n",
    "        assert(PYRAMID_W == [layer[-1] for layer in pyramid_layers])\n",
    "        for (layer, (n_trees, n_rounds, adj_learning, w)) in enumerate(pyramid_layers):\n",
    "            ## Load the manual parameters from the pyramid layer\n",
    "            xgb_params['num_parallel_tree'] = n_trees\n",
    "            xgb_params['learning_rate'] = n_trees*adj_learning*BASE_LEARNING_RATE\n",
    "            xgb_params['random_state'] += 1\n",
    "            \n",
    "            ## No early stopping except on final round. This is important since the weighting causes the model to go backwards for a time at the start of the next layer.\n",
    "            early_stop = None\n",
    "            if w == 0:\n",
    "                early_stop = 300\n",
    "\n",
    "            print(\"Learning Rate:\", xgb_params['learning_rate'])\n",
    "            model = xgb.train(xgb_params, \n",
    "                        dtrain=dtrain,\n",
    "                        evals=[(dtrain,'train'),(dvalid,'valid')],\n",
    "                        num_boost_round=n_rounds,\n",
    "                        early_stopping_rounds=early_stop,\n",
    "                        verbose_eval=100//n_trees)\n",
    "            ## save model layer here\n",
    "            \n",
    "            model.save_model(f'XGB_v{VER}_fold{fold}_layer{layer}.xgb')\n",
    "#             model = xgb.Booster()\n",
    "\n",
    "#             model.load_model(f'XGB_v{VER}_fold{fold}_layer{layer}.xgb')\n",
    "\n",
    "            ## predict to load the predictions on the next model layer\n",
    "            ## Don't set base margin on final layer. w = 0 is used as an encoded way to skip this step.\n",
    "            if (w != 0):\n",
    "                ptrain = model.predict(dtrain, output_margin=True)\n",
    "                pvalid = model.predict(dvalid, output_margin=True)\n",
    "\n",
    "                ## reduce the impact of all model layers so far by w. This should be another way to reduce over-specialization, without the computational cost of DART\n",
    "                if (w < 1.0):\n",
    "                    ptrain = ptrain * w\n",
    "                    pvalid = pvalid * w\n",
    "\n",
    "                ## This set_base_margin on the DMatrix data is what informs the next layer of the prior training.\n",
    "                ## See code example from official demos: https://github.com/dmlc/xgboost/blob/master/demo/guide-python/boost_from_prediction.py\n",
    "                dtrain.set_base_margin(ptrain)\n",
    "                dvalid.set_base_margin(pvalid)\n",
    "\n",
    "                plt.hist(pvalid, bins=100)\n",
    "                plt.title(f'Layer {layer} OOF Predictions')\n",
    "                plt.show()\n",
    "\n",
    "                del model, ptrain, pvalid\n",
    "                gc.collect()\n",
    "\n",
    "        # GET FEATURE IMPORTANCE FOR FOLD K\n",
    "        dd = model.get_score(importance_type='weight')\n",
    "        df = pd.DataFrame({'feature':dd.keys(),f'importance_{fold}':dd.values()})\n",
    "        importances.append(df)\n",
    "\n",
    "        # INFER OOF FOLD K\n",
    "        # Note: Not necessary with current implementation having final pyramid layer with num_parallel_tree == 1, but more robust to divide best_ntree_limit\n",
    "        #   by num_parallel_tree. Oddly, iteration range is based only on num_boost_rounds, but best_ntree_limit is stored as num_boost_rounds * num_parallel_trees\n",
    "        print(\"Best_ntree_limit:\", model.best_ntree_limit//xgb_params['num_parallel_tree'])\n",
    "        oof_preds = model.predict(dvalid, iteration_range=(0,model.best_ntree_limit//xgb_params['num_parallel_tree']))\n",
    "        print('For this fold:')\n",
    "        ## TODO: update metric. Fork this notebook to confirm the latest version of the numpy implementation from author is even faster and equally accurate.\n",
    "        ## https://www.kaggle.com/code/rohanrao/amex-competition-metric-implementations\n",
    "        amex_metric_mod(y_valid.values, oof_preds)\n",
    "    \n",
    "        # SAVE OOF\n",
    "        df = train.loc[valid_idx, ['customer_ID','target'] ].copy()\n",
    "        df['oof_pred'] = oof_preds\n",
    "        oof.append( df )\n",
    "\n",
    "        del X_train, y_train, dd, df\n",
    "        del X_valid, y_valid, dvalid, model\n",
    "        gc.collect()\n",
    "\n",
    "    print('#'*25)\n",
    "    print('OVERALL CV:')\n",
    "    oof = pd.concat(oof,axis=0,ignore_index=True).set_index('customer_ID')\n",
    "    amex_metric_mod(oof.target.values, oof.oof_pred.values)\n",
    "    return oof\n"
   ]
  },
  {
   "cell_type": "code",
   "execution_count": 9,
   "id": "a912eec9",
   "metadata": {},
   "outputs": [
    {
     "data": {
      "text/html": [
       "<div>\n",
       "<style scoped>\n",
       "    .dataframe tbody tr th:only-of-type {\n",
       "        vertical-align: middle;\n",
       "    }\n",
       "\n",
       "    .dataframe tbody tr th {\n",
       "        vertical-align: top;\n",
       "    }\n",
       "\n",
       "    .dataframe thead th {\n",
       "        text-align: right;\n",
       "    }\n",
       "</style>\n",
       "<table border=\"1\" class=\"dataframe\">\n",
       "  <thead>\n",
       "    <tr style=\"text-align: right;\">\n",
       "      <th></th>\n",
       "      <th>customer_ID</th>\n",
       "      <th>S_2</th>\n",
       "      <th>P_2</th>\n",
       "      <th>D_39</th>\n",
       "      <th>B_1</th>\n",
       "      <th>B_2</th>\n",
       "      <th>R_1</th>\n",
       "      <th>S_3</th>\n",
       "      <th>D_41</th>\n",
       "      <th>B_3</th>\n",
       "      <th>...</th>\n",
       "      <th>D_143_min-max</th>\n",
       "      <th>D_144-mean</th>\n",
       "      <th>D_144-div-mean</th>\n",
       "      <th>D_144_min_div_max</th>\n",
       "      <th>D_144_min-max</th>\n",
       "      <th>D_145-mean</th>\n",
       "      <th>D_145-div-mean</th>\n",
       "      <th>D_145_min_div_max</th>\n",
       "      <th>D_145_min-max</th>\n",
       "      <th>target</th>\n",
       "    </tr>\n",
       "  </thead>\n",
       "  <tbody>\n",
       "    <tr>\n",
       "      <th>0</th>\n",
       "      <td>836ab8c9b793c103f527c9921ae5cf298358301dcbf3a8...</td>\n",
       "      <td>2018-03-23</td>\n",
       "      <td>0.419922</td>\n",
       "      <td>0.0</td>\n",
       "      <td>0.059998</td>\n",
       "      <td>0.330078</td>\n",
       "      <td>0.000000</td>\n",
       "      <td>0.140015</td>\n",
       "      <td>0.000000</td>\n",
       "      <td>0.040009</td>\n",
       "      <td>...</td>\n",
       "      <td>0.0</td>\n",
       "      <td>-0.005386</td>\n",
       "      <td>0.000000</td>\n",
       "      <td>0.0</td>\n",
       "      <td>-0.010002</td>\n",
       "      <td>0.0</td>\n",
       "      <td>1.0</td>\n",
       "      <td>1.0</td>\n",
       "      <td>0.0</td>\n",
       "      <td>0</td>\n",
       "    </tr>\n",
       "    <tr>\n",
       "      <th>1</th>\n",
       "      <td>dc17e1cb25b4a6ba4edd43886ec9109db7815de4c2e747...</td>\n",
       "      <td>2018-03-14</td>\n",
       "      <td>0.879883</td>\n",
       "      <td>31.0</td>\n",
       "      <td>0.049988</td>\n",
       "      <td>1.009766</td>\n",
       "      <td>0.010002</td>\n",
       "      <td>-0.020004</td>\n",
       "      <td>0.000000</td>\n",
       "      <td>0.000000</td>\n",
       "      <td>...</td>\n",
       "      <td>0.0</td>\n",
       "      <td>-0.005386</td>\n",
       "      <td>0.000000</td>\n",
       "      <td>0.0</td>\n",
       "      <td>-0.010002</td>\n",
       "      <td>0.0</td>\n",
       "      <td>NaN</td>\n",
       "      <td>NaN</td>\n",
       "      <td>0.0</td>\n",
       "      <td>0</td>\n",
       "    </tr>\n",
       "    <tr>\n",
       "      <th>2</th>\n",
       "      <td>be6d78f47fefcc32b5d9968bad7aaf652d33ac48d527ce...</td>\n",
       "      <td>2018-03-18</td>\n",
       "      <td>0.919922</td>\n",
       "      <td>16.0</td>\n",
       "      <td>0.010002</td>\n",
       "      <td>0.819824</td>\n",
       "      <td>0.000000</td>\n",
       "      <td>0.180054</td>\n",
       "      <td>0.000000</td>\n",
       "      <td>0.010002</td>\n",
       "      <td>...</td>\n",
       "      <td>0.0</td>\n",
       "      <td>0.004616</td>\n",
       "      <td>1.857422</td>\n",
       "      <td>0.0</td>\n",
       "      <td>-0.010002</td>\n",
       "      <td>0.0</td>\n",
       "      <td>NaN</td>\n",
       "      <td>NaN</td>\n",
       "      <td>0.0</td>\n",
       "      <td>0</td>\n",
       "    </tr>\n",
       "    <tr>\n",
       "      <th>3</th>\n",
       "      <td>db6f04e450d7f754ff48a22fe780cd20a89d62c6a23853...</td>\n",
       "      <td>2018-03-17</td>\n",
       "      <td>0.529785</td>\n",
       "      <td>0.0</td>\n",
       "      <td>0.300049</td>\n",
       "      <td>0.070007</td>\n",
       "      <td>0.500000</td>\n",
       "      <td>0.250000</td>\n",
       "      <td>0.300049</td>\n",
       "      <td>0.540039</td>\n",
       "      <td>...</td>\n",
       "      <td>0.0</td>\n",
       "      <td>0.046143</td>\n",
       "      <td>4.332031</td>\n",
       "      <td>0.0</td>\n",
       "      <td>-0.070007</td>\n",
       "      <td>0.0</td>\n",
       "      <td>1.0</td>\n",
       "      <td>1.0</td>\n",
       "      <td>0.0</td>\n",
       "      <td>0</td>\n",
       "    </tr>\n",
       "    <tr>\n",
       "      <th>4</th>\n",
       "      <td>df335a6aa4d994a1c7008cde8bccb08ec49d942bb2cc97...</td>\n",
       "      <td>2018-03-02</td>\n",
       "      <td>0.859863</td>\n",
       "      <td>21.0</td>\n",
       "      <td>0.020004</td>\n",
       "      <td>1.009766</td>\n",
       "      <td>0.010002</td>\n",
       "      <td>0.090027</td>\n",
       "      <td>0.000000</td>\n",
       "      <td>0.000000</td>\n",
       "      <td>...</td>\n",
       "      <td>0.0</td>\n",
       "      <td>0.003078</td>\n",
       "      <td>1.444336</td>\n",
       "      <td>0.0</td>\n",
       "      <td>-0.010002</td>\n",
       "      <td>0.0</td>\n",
       "      <td>NaN</td>\n",
       "      <td>NaN</td>\n",
       "      <td>0.0</td>\n",
       "      <td>0</td>\n",
       "    </tr>\n",
       "  </tbody>\n",
       "</table>\n",
       "<p>5 rows × 2291 columns</p>\n",
       "</div>"
      ],
      "text/plain": [
       "                                         customer_ID        S_2       P_2  \\\n",
       "0  836ab8c9b793c103f527c9921ae5cf298358301dcbf3a8... 2018-03-23  0.419922   \n",
       "1  dc17e1cb25b4a6ba4edd43886ec9109db7815de4c2e747... 2018-03-14  0.879883   \n",
       "2  be6d78f47fefcc32b5d9968bad7aaf652d33ac48d527ce... 2018-03-18  0.919922   \n",
       "3  db6f04e450d7f754ff48a22fe780cd20a89d62c6a23853... 2018-03-17  0.529785   \n",
       "4  df335a6aa4d994a1c7008cde8bccb08ec49d942bb2cc97... 2018-03-02  0.859863   \n",
       "\n",
       "   D_39       B_1       B_2       R_1       S_3      D_41       B_3  ...  \\\n",
       "0   0.0  0.059998  0.330078  0.000000  0.140015  0.000000  0.040009  ...   \n",
       "1  31.0  0.049988  1.009766  0.010002 -0.020004  0.000000  0.000000  ...   \n",
       "2  16.0  0.010002  0.819824  0.000000  0.180054  0.000000  0.010002  ...   \n",
       "3   0.0  0.300049  0.070007  0.500000  0.250000  0.300049  0.540039  ...   \n",
       "4  21.0  0.020004  1.009766  0.010002  0.090027  0.000000  0.000000  ...   \n",
       "\n",
       "   D_143_min-max  D_144-mean  D_144-div-mean  D_144_min_div_max  \\\n",
       "0            0.0   -0.005386        0.000000                0.0   \n",
       "1            0.0   -0.005386        0.000000                0.0   \n",
       "2            0.0    0.004616        1.857422                0.0   \n",
       "3            0.0    0.046143        4.332031                0.0   \n",
       "4            0.0    0.003078        1.444336                0.0   \n",
       "\n",
       "   D_144_min-max  D_145-mean  D_145-div-mean  D_145_min_div_max  \\\n",
       "0      -0.010002         0.0             1.0                1.0   \n",
       "1      -0.010002         0.0             NaN                NaN   \n",
       "2      -0.010002         0.0             NaN                NaN   \n",
       "3      -0.070007         0.0             1.0                1.0   \n",
       "4      -0.010002         0.0             NaN                NaN   \n",
       "\n",
       "   D_145_min-max  target  \n",
       "0            0.0       0  \n",
       "1            0.0       0  \n",
       "2            0.0       0  \n",
       "3            0.0       0  \n",
       "4            0.0       0  \n",
       "\n",
       "[5 rows x 2291 columns]"
      ]
     },
     "execution_count": 9,
     "metadata": {},
     "output_type": "execute_result"
    }
   ],
   "source": [
    "train.head()"
   ]
  },
  {
   "cell_type": "code",
   "execution_count": 14,
   "id": "7c636ec5",
   "metadata": {
    "execution": {
     "iopub.execute_input": "2022-07-18T23:29:29.373629Z",
     "iopub.status.busy": "2022-07-18T23:29:29.373321Z",
     "iopub.status.idle": "2022-07-19T00:33:25.301143Z",
     "shell.execute_reply": "2022-07-19T00:33:25.300296Z"
    },
    "papermill": {
     "duration": 3835.936572,
     "end_time": "2022-07-19T00:33:25.303281",
     "exception": false,
     "start_time": "2022-07-18T23:29:29.366709",
     "status": "completed"
    },
    "tags": []
   },
   "outputs": [
    {
     "name": "stdout",
     "output_type": "stream",
     "text": [
      "There are 2278 features!\n",
      "(458913, 2291)\n",
      "#########################\n",
      "### Fold 1\n",
      "### Train size 367130 Valid size 91783 Valid positives 23724\n",
      "### Training with all of fold data...\n",
      "#########################\n",
      "Learning Rate: 1.56\n"
     ]
    },
    {
     "data": {
      "image/png": "[encoded data removed]",
      "text/plain": [
       "<Figure size 432x288 with 1 Axes>"
      ]
     },
     "metadata": {
      "needs_background": "light"
     },
     "output_type": "display_data"
    },
    {
     "name": "stdout",
     "output_type": "stream",
     "text": [
      "Learning Rate: 0.26\n"
     ]
    },
    {
     "data": {
      "image/png": "[encoded data removed]",
      "text/plain": [
       "<Figure size 432x288 with 1 Axes>"
      ]
     },
     "metadata": {
      "needs_background": "light"
     },
     "output_type": "display_data"
    },
    {
     "name": "stdout",
     "output_type": "stream",
     "text": [
      "Learning Rate: 0.0125\n"
     ]
    },
    {
     "data": {
      "image/png": "[encoded data removed]",
      "text/plain": [
       "<Figure size 432x288 with 1 Axes>"
      ]
     },
     "metadata": {
      "needs_background": "light"
     },
     "output_type": "display_data"
    },
    {
     "name": "stdout",
     "output_type": "stream",
     "text": [
      "Learning Rate: 0.01125\n"
     ]
    },
    {
     "data": {
      "image/png": "[encoded data removed]",
      "text/plain": [
       "<Figure size 432x288 with 1 Axes>"
      ]
     },
     "metadata": {
      "needs_background": "light"
     },
     "output_type": "display_data"
    },
    {
     "name": "stdout",
     "output_type": "stream",
     "text": [
      "Learning Rate: 0.01\n"
     ]
    },
    {
     "data": {
      "image/png": "[encoded data removed]",
      "text/plain": [
       "<Figure size 432x288 with 1 Axes>"
      ]
     },
     "metadata": {
      "needs_background": "light"
     },
     "output_type": "display_data"
    },
    {
     "name": "stdout",
     "output_type": "stream",
     "text": [
      "Learning Rate: 0.005\n",
      "Best_ntree_limit: 2104\n",
      "For this fold:\n",
      "  4%  : 0.66569716\n",
      "  Gini: 0.9254227643241941\n",
      "Kaggle: 0.7955599608535796\n",
      "#########################\n",
      "### Fold 2\n",
      "### Train size 367130 Valid size 91783 Valid positives 23895\n",
      "### Training with all of fold data...\n",
      "#########################\n",
      "Learning Rate: 1.56\n"
     ]
    },
    {
     "data": {
      "image/png": "[encoded data removed]",
      "text/plain": [
       "<Figure size 432x288 with 1 Axes>"
      ]
     },
     "metadata": {
      "needs_background": "light"
     },
     "output_type": "display_data"
    },
    {
     "name": "stdout",
     "output_type": "stream",
     "text": [
      "Learning Rate: 0.26\n"
     ]
    },
    {
     "data": {
      "image/png": "[encoded data removed]",
      "text/plain": [
       "<Figure size 432x288 with 1 Axes>"
      ]
     },
     "metadata": {
      "needs_background": "light"
     },
     "output_type": "display_data"
    },
    {
     "name": "stdout",
     "output_type": "stream",
     "text": [
      "Learning Rate: 0.0125\n"
     ]
    },
    {
     "data": {
      "image/png": "[encoded data removed]",
      "text/plain": [
       "<Figure size 432x288 with 1 Axes>"
      ]
     },
     "metadata": {
      "needs_background": "light"
     },
     "output_type": "display_data"
    },
    {
     "name": "stdout",
     "output_type": "stream",
     "text": [
      "Learning Rate: 0.01125\n"
     ]
    },
    {
     "data": {
      "image/png": "[encoded data removed]",
      "text/plain": [
       "<Figure size 432x288 with 1 Axes>"
      ]
     },
     "metadata": {
      "needs_background": "light"
     },
     "output_type": "display_data"
    },
    {
     "name": "stdout",
     "output_type": "stream",
     "text": [
      "Learning Rate: 0.01\n"
     ]
    },
    {
     "data": {
      "image/png": "[encoded data removed]",
      "text/plain": [
       "<Figure size 432x288 with 1 Axes>"
      ]
     },
     "metadata": {
      "needs_background": "light"
     },
     "output_type": "display_data"
    },
    {
     "name": "stdout",
     "output_type": "stream",
     "text": [
      "Learning Rate: 0.005\n",
      "Best_ntree_limit: 3437\n",
      "For this fold:\n",
      "  4%  : 0.6676292\n",
      "  Gini: 0.9251018745237929\n",
      "Kaggle: 0.7963655284312537\n",
      "#########################\n",
      "### Fold 3\n",
      "### Train size 367130 Valid size 91783 Valid positives 23812\n",
      "### Training with all of fold data...\n",
      "#########################\n",
      "Learning Rate: 1.56\n"
     ]
    },
    {
     "data": {
      "image/png": "[encoded data removed]",
      "text/plain": [
       "<Figure size 432x288 with 1 Axes>"
      ]
     },
     "metadata": {
      "needs_background": "light"
     },
     "output_type": "display_data"
    },
    {
     "name": "stdout",
     "output_type": "stream",
     "text": [
      "Learning Rate: 0.26\n"
     ]
    },
    {
     "data": {
      "image/png": "[encoded data removed]",
      "text/plain": [
       "<Figure size 432x288 with 1 Axes>"
      ]
     },
     "metadata": {
      "needs_background": "light"
     },
     "output_type": "display_data"
    },
    {
     "name": "stdout",
     "output_type": "stream",
     "text": [
      "Learning Rate: 0.0125\n"
     ]
    },
    {
     "data": {
      "image/png": "[encoded data removed]",
      "text/plain": [
       "<Figure size 432x288 with 1 Axes>"
      ]
     },
     "metadata": {
      "needs_background": "light"
     },
     "output_type": "display_data"
    },
    {
     "name": "stdout",
     "output_type": "stream",
     "text": [
      "Learning Rate: 0.01125\n"
     ]
    },
    {
     "data": {
      "image/png": "[encoded data removed]",
      "text/plain": [
       "<Figure size 432x288 with 1 Axes>"
      ]
     },
     "metadata": {
      "needs_background": "light"
     },
     "output_type": "display_data"
    },
    {
     "name": "stdout",
     "output_type": "stream",
     "text": [
      "Learning Rate: 0.01\n"
     ]
    },
    {
     "data": {
      "image/png": "[encoded data removed]",
      "text/plain": [
       "<Figure size 432x288 with 1 Axes>"
      ]
     },
     "metadata": {
      "needs_background": "light"
     },
     "output_type": "display_data"
    },
    {
     "name": "stdout",
     "output_type": "stream",
     "text": [
      "Learning Rate: 0.005\n",
      "Best_ntree_limit: 1182\n",
      "For this fold:\n",
      "  4%  : 0.6738619\n",
      "  Gini: 0.9272613186407944\n",
      "Kaggle: 0.800561619737191\n",
      "#########################\n",
      "### Fold 4\n",
      "### Train size 367131 Valid size 91782 Valid positives 23683\n",
      "### Training with all of fold data...\n",
      "#########################\n",
      "Learning Rate: 1.56\n"
     ]
    },
    {
     "data": {
      "image/png": "[encoded data removed]",
      "text/plain": [
       "<Figure size 432x288 with 1 Axes>"
      ]
     },
     "metadata": {
      "needs_background": "light"
     },
     "output_type": "display_data"
    },
    {
     "name": "stdout",
     "output_type": "stream",
     "text": [
      "Learning Rate: 0.26\n"
     ]
    },
    {
     "data": {
      "image/png": "[encoded data removed]",
      "text/plain": [
       "<Figure size 432x288 with 1 Axes>"
      ]
     },
     "metadata": {
      "needs_background": "light"
     },
     "output_type": "display_data"
    },
    {
     "name": "stdout",
     "output_type": "stream",
     "text": [
      "Learning Rate: 0.0125\n"
     ]
    },
    {
     "data": {
      "image/png": "[encoded data removed]",
      "text/plain": [
       "<Figure size 432x288 with 1 Axes>"
      ]
     },
     "metadata": {
      "needs_background": "light"
     },
     "output_type": "display_data"
    },
    {
     "name": "stdout",
     "output_type": "stream",
     "text": [
      "Learning Rate: 0.01125\n"
     ]
    },
    {
     "data": {
      "image/png": "[encoded data removed]",
      "text/plain": [
       "<Figure size 432x288 with 1 Axes>"
      ]
     },
     "metadata": {
      "needs_background": "light"
     },
     "output_type": "display_data"
    },
    {
     "name": "stdout",
     "output_type": "stream",
     "text": [
      "Learning Rate: 0.01\n"
     ]
    },
    {
     "data": {
      "image/png": "[encoded data removed]",
      "text/plain": [
       "<Figure size 432x288 with 1 Axes>"
      ]
     },
     "metadata": {
      "needs_background": "light"
     },
     "output_type": "display_data"
    },
    {
     "name": "stdout",
     "output_type": "stream",
     "text": [
      "Learning Rate: 0.005\n",
      "Best_ntree_limit: 1090\n",
      "For this fold:\n",
      "  4%  : 0.6712832\n",
      "  Gini: 0.9244878872440999\n",
      "Kaggle: 0.7978855363630626\n",
      "#########################\n",
      "### Fold 5\n",
      "### Train size 367131 Valid size 91782 Valid positives 23714\n",
      "### Training with all of fold data...\n",
      "#########################\n",
      "Learning Rate: 1.56\n"
     ]
    },
    {
     "data": {
      "image/png": "[encoded data removed]",
      "text/plain": [
       "<Figure size 432x288 with 1 Axes>"
      ]
     },
     "metadata": {
      "needs_background": "light"
     },
     "output_type": "display_data"
    },
    {
     "name": "stdout",
     "output_type": "stream",
     "text": [
      "Learning Rate: 0.26\n"
     ]
    },
    {
     "data": {
      "image/png": "[encoded data removed]",
      "text/plain": [
       "<Figure size 432x288 with 1 Axes>"
      ]
     },
     "metadata": {
      "needs_background": "light"
     },
     "output_type": "display_data"
    },
    {
     "name": "stdout",
     "output_type": "stream",
     "text": [
      "Learning Rate: 0.0125\n"
     ]
    },
    {
     "data": {
      "image/png": "[encoded data removed]",
      "text/plain": [
       "<Figure size 432x288 with 1 Axes>"
      ]
     },
     "metadata": {
      "needs_background": "light"
     },
     "output_type": "display_data"
    },
    {
     "name": "stdout",
     "output_type": "stream",
     "text": [
      "Learning Rate: 0.01125\n"
     ]
    },
    {
     "data": {
      "image/png": "[encoded data removed]",
      "text/plain": [
       "<Figure size 432x288 with 1 Axes>"
      ]
     },
     "metadata": {
      "needs_background": "light"
     },
     "output_type": "display_data"
    },
    {
     "name": "stdout",
     "output_type": "stream",
     "text": [
      "Learning Rate: 0.01\n"
     ]
    },
    {
     "data": {
      "image/png": "[encoded data removed]",
      "text/plain": [
       "<Figure size 432x288 with 1 Axes>"
      ]
     },
     "metadata": {
      "needs_background": "light"
     },
     "output_type": "display_data"
    },
    {
     "name": "stdout",
     "output_type": "stream",
     "text": [
      "Learning Rate: 0.005\n",
      "Best_ntree_limit: 886\n",
      "For this fold:\n",
      "  4%  : 0.67167073\n",
      "  Gini: 0.927231896445324\n",
      "Kaggle: 0.7994513156638394\n",
      "#########################\n",
      "OVERALL CV:\n",
      "  4%  : 0.6696317\n",
      "  Gini: 0.9258895132572242\n",
      "Kaggle: 0.7977606164232288\n"
     ]
    }
   ],
   "source": [
    "features = [col for col in train.columns if col not in ['customer_ID', 'target','S_2']]\n",
    "features = [col for col in features if 'B_29' not in col]\n",
    "print(f'There are {len(features)} features!')\n",
    "print(train.shape)\n",
    "\n",
    "oof = run_training(train, features)"
   ]
  },
  {
   "cell_type": "code",
   "execution_count": 15,
   "id": "79230749",
   "metadata": {
    "execution": {
     "iopub.execute_input": "2022-07-19T00:33:25.381952Z",
     "iopub.status.busy": "2022-07-19T00:33:25.381130Z",
     "iopub.status.idle": "2022-07-19T00:33:25.521999Z",
     "shell.execute_reply": "2022-07-19T00:33:25.521053Z"
    },
    "papermill": {
     "duration": 0.181692,
     "end_time": "2022-07-19T00:33:25.523898",
     "exception": false,
     "start_time": "2022-07-19T00:33:25.342206",
     "status": "completed"
    },
    "tags": []
   },
   "outputs": [],
   "source": [
    "# CLEAN RAM\n",
    "# del train\n",
    "# _ = gc.collect()"
   ]
  },
  {
   "cell_type": "markdown",
   "id": "cb5bd34b",
   "metadata": {
    "papermill": {
     "duration": 0.038883,
     "end_time": "2022-07-19T00:33:25.601838",
     "exception": false,
     "start_time": "2022-07-19T00:33:25.562955",
     "status": "completed"
    },
    "tags": []
   },
   "source": [
    "# Save OOF Preds"
   ]
  },
  {
   "cell_type": "code",
   "execution_count": 19,
   "id": "c4046a03",
   "metadata": {
    "execution": {
     "iopub.execute_input": "2022-07-19T00:33:25.679803Z",
     "iopub.status.busy": "2022-07-19T00:33:25.679461Z",
     "iopub.status.idle": "2022-07-19T00:33:27.003927Z",
     "shell.execute_reply": "2022-07-19T00:33:27.003119Z"
    },
    "papermill": {
     "duration": 1.365395,
     "end_time": "2022-07-19T00:33:27.005752",
     "exception": false,
     "start_time": "2022-07-19T00:33:25.640357",
     "status": "completed"
    },
    "tags": []
   },
   "outputs": [
    {
     "data": {
      "text/html": [
       "<div>\n",
       "<style scoped>\n",
       "    .dataframe tbody tr th:only-of-type {\n",
       "        vertical-align: middle;\n",
       "    }\n",
       "\n",
       "    .dataframe tbody tr th {\n",
       "        vertical-align: top;\n",
       "    }\n",
       "\n",
       "    .dataframe thead th {\n",
       "        text-align: right;\n",
       "    }\n",
       "</style>\n",
       "<table border=\"1\" class=\"dataframe\">\n",
       "  <thead>\n",
       "    <tr style=\"text-align: right;\">\n",
       "      <th></th>\n",
       "      <th>customer_ID</th>\n",
       "      <th>target</th>\n",
       "      <th>oof_pred</th>\n",
       "    </tr>\n",
       "  </thead>\n",
       "  <tbody>\n",
       "    <tr>\n",
       "      <th>0</th>\n",
       "      <td>0000099d6bd597052cdcda90ffabf56573fe9d7c79be5f...</td>\n",
       "      <td>0</td>\n",
       "      <td>0.000254</td>\n",
       "    </tr>\n",
       "    <tr>\n",
       "      <th>1</th>\n",
       "      <td>00000fd6641609c6ece5454664794f0340ad84dddce9a2...</td>\n",
       "      <td>0</td>\n",
       "      <td>0.000998</td>\n",
       "    </tr>\n",
       "    <tr>\n",
       "      <th>2</th>\n",
       "      <td>00001b22f846c82c51f6e3958ccd81970162bae8b007e8...</td>\n",
       "      <td>0</td>\n",
       "      <td>0.000628</td>\n",
       "    </tr>\n",
       "    <tr>\n",
       "      <th>3</th>\n",
       "      <td>000041bdba6ecadd89a52d11886e8eaaec9325906c9723...</td>\n",
       "      <td>0</td>\n",
       "      <td>0.005549</td>\n",
       "    </tr>\n",
       "    <tr>\n",
       "      <th>4</th>\n",
       "      <td>00007889e4fcd2614b6cbe7f8f3d2e5c728eca32d9eb8a...</td>\n",
       "      <td>0</td>\n",
       "      <td>0.001256</td>\n",
       "    </tr>\n",
       "  </tbody>\n",
       "</table>\n",
       "</div>"
      ],
      "text/plain": [
       "                                         customer_ID  target  oof_pred\n",
       "0  0000099d6bd597052cdcda90ffabf56573fe9d7c79be5f...       0  0.000254\n",
       "1  00000fd6641609c6ece5454664794f0340ad84dddce9a2...       0  0.000998\n",
       "2  00001b22f846c82c51f6e3958ccd81970162bae8b007e8...       0  0.000628\n",
       "3  000041bdba6ecadd89a52d11886e8eaaec9325906c9723...       0  0.005549\n",
       "4  00007889e4fcd2614b6cbe7f8f3d2e5c728eca32d9eb8a...       0  0.001256"
      ]
     },
     "execution_count": 19,
     "metadata": {},
     "output_type": "execute_result"
    }
   ],
   "source": [
    "oof_xgb = pd.read_pickle(TRAIN_PATH)[['customer_ID']].drop_duplicates()\n",
    "oof_xgb = oof_xgb.set_index('customer_ID')\n",
    "oof_xgb = oof_xgb.merge(oof, left_index=True, right_index=True)\n",
    "oof_xgb = oof_xgb.sort_index().reset_index()\n",
    "oof_xgb.to_csv(f'oof_xgb_v{VER}.csv',index=False)\n",
    "oof_xgb.head()"
   ]
  },
  {
   "cell_type": "code",
   "execution_count": 20,
   "id": "0f3ce579",
   "metadata": {
    "execution": {
     "iopub.execute_input": "2022-07-19T00:33:27.085788Z",
     "iopub.status.busy": "2022-07-19T00:33:27.085284Z",
     "iopub.status.idle": "2022-07-19T00:33:27.415853Z",
     "shell.execute_reply": "2022-07-19T00:33:27.415061Z"
    },
    "papermill": {
     "duration": 0.372344,
     "end_time": "2022-07-19T00:33:27.417676",
     "exception": false,
     "start_time": "2022-07-19T00:33:27.045332",
     "status": "completed"
    },
    "tags": []
   },
   "outputs": [
    {
     "data": {
      "image/png": "[encoded data removed]",
      "text/plain": [
       "<Figure size 432x288 with 1 Axes>"
      ]
     },
     "metadata": {
      "needs_background": "light"
     },
     "output_type": "display_data"
    }
   ],
   "source": [
    "# PLOT OOF PREDICTIONS\n",
    "plt.hist(oof_xgb.oof_pred.values, bins=100)\n",
    "plt.title('OOF Predictions')\n",
    "plt.show()"
   ]
  },
  {
   "cell_type": "code",
   "execution_count": 21,
   "id": "8a94ae28",
   "metadata": {
    "execution": {
     "iopub.execute_input": "2022-07-19T00:33:27.541348Z",
     "iopub.status.busy": "2022-07-19T00:33:27.540975Z",
     "iopub.status.idle": "2022-07-19T00:33:27.758297Z",
     "shell.execute_reply": "2022-07-19T00:33:27.757340Z"
    },
    "papermill": {
     "duration": 0.297249,
     "end_time": "2022-07-19T00:33:27.760804",
     "exception": false,
     "start_time": "2022-07-19T00:33:27.463555",
     "status": "completed"
    },
    "tags": []
   },
   "outputs": [],
   "source": [
    "# CLEAR VRAM, RAM FOR INFERENCE BELOW\n",
    "del oof_xgb, oof\n",
    "_ = gc.collect()"
   ]
  },
  {
   "cell_type": "markdown",
   "id": "ca59175f",
   "metadata": {
    "papermill": {
     "duration": 0.070071,
     "end_time": "2022-07-19T00:33:27.901692",
     "exception": false,
     "start_time": "2022-07-19T00:33:27.831621",
     "status": "completed"
    },
    "tags": []
   },
   "source": [
    "# Feature Importance"
   ]
  },
  {
   "cell_type": "code",
   "execution_count": 22,
   "id": "87c62094",
   "metadata": {
    "execution": {
     "iopub.execute_input": "2022-07-19T00:33:28.029739Z",
     "iopub.status.busy": "2022-07-19T00:33:28.029248Z",
     "iopub.status.idle": "2022-07-19T00:33:28.066938Z",
     "shell.execute_reply": "2022-07-19T00:33:28.066121Z"
    },
    "papermill": {
     "duration": 0.097274,
     "end_time": "2022-07-19T00:33:28.068929",
     "exception": false,
     "start_time": "2022-07-19T00:33:27.971655",
     "status": "completed"
    },
    "tags": []
   },
   "outputs": [],
   "source": [
    "import matplotlib.pyplot as plt\n",
    "\n",
    "df = importances[0].copy()\n",
    "for k in range(1,FOLDS): df = df.merge(importances[k], on='feature', how='left')\n",
    "df['importance'] = df.iloc[:,1:].mean(axis=1)\n",
    "df = df.sort_values('importance',ascending=False)\n",
    "df.to_csv(f'xgb_feature_importance_v{VER}.csv',index=False)"
   ]
  },
  {
   "cell_type": "code",
   "execution_count": 23,
   "id": "5ce98928",
   "metadata": {
    "execution": {
     "iopub.execute_input": "2022-07-19T00:33:28.150105Z",
     "iopub.status.busy": "2022-07-19T00:33:28.149765Z",
     "iopub.status.idle": "2022-07-19T00:33:28.469103Z",
     "shell.execute_reply": "2022-07-19T00:33:28.468314Z"
    },
    "papermill": {
     "duration": 0.36125,
     "end_time": "2022-07-19T00:33:28.471025",
     "exception": false,
     "start_time": "2022-07-19T00:33:28.109775",
     "status": "completed"
    },
    "tags": []
   },
   "outputs": [
    {
     "data": {
      "image/png": "[encoded data removed]",
      "text/plain": [
       "<Figure size 720x1080 with 1 Axes>"
      ]
     },
     "metadata": {
      "needs_background": "light"
     },
     "output_type": "display_data"
    }
   ],
   "source": [
    "NUM_FEATURES = 30\n",
    "plt.figure(figsize=(10,5*NUM_FEATURES//10))\n",
    "plt.barh(np.arange(NUM_FEATURES,0,-1), df.importance.values[:NUM_FEATURES])\n",
    "plt.yticks(np.arange(NUM_FEATURES,0,-1), df.feature.values[:NUM_FEATURES])\n",
    "plt.title(f'XGB Feature Importance - Top {NUM_FEATURES}')\n",
    "plt.show()\n",
    "\n",
    "del df, importances"
   ]
  },
  {
   "cell_type": "markdown",
   "id": "c1b1ebe9",
   "metadata": {
    "_kg_hide-input": true,
    "_kg_hide-output": true,
    "papermill": {
     "duration": 0.040413,
     "end_time": "2022-07-19T00:33:28.552389",
     "exception": false,
     "start_time": "2022-07-19T00:33:28.511976",
     "status": "completed"
    },
    "tags": []
   },
   "source": [
    "# Infer Test"
   ]
  },
  {
   "cell_type": "code",
   "execution_count": 24,
   "id": "c576f520",
   "metadata": {},
   "outputs": [],
   "source": [
    "DO_SUBMIT = 1"
   ]
  },
  {
   "cell_type": "code",
   "execution_count": 25,
   "id": "1ed9dc32",
   "metadata": {
    "_kg_hide-input": false,
    "_kg_hide-output": false,
    "execution": {
     "iopub.execute_input": "2022-07-19T00:33:28.634046Z",
     "iopub.status.busy": "2022-07-19T00:33:28.633708Z",
     "iopub.status.idle": "2022-07-19T00:33:28.649096Z",
     "shell.execute_reply": "2022-07-19T00:33:28.648319Z"
    },
    "papermill": {
     "duration": 0.057369,
     "end_time": "2022-07-19T00:33:28.650876",
     "exception": false,
     "start_time": "2022-07-19T00:33:28.593507",
     "status": "completed"
    },
    "tags": []
   },
   "outputs": [
    {
     "name": "stdout",
     "output_type": "stream",
     "text": [
      "\n",
      "Reading test data...\n",
      "=> Test part 1 has shape (924621, 2290)\n",
      ".\n",
      "=> Test piece 1, 1 has shape (924621, 2278)\n",
      ".\n",
      "Loaded fold0, layer0\n",
      "Loaded fold0, layer1\n",
      "Loaded fold0, layer2\n",
      "Loaded fold0, layer3\n",
      "Loaded fold0, layer4\n",
      "Best_ntree_limit 2104\n",
      "Loaded fold1, layer0\n",
      "Loaded fold1, layer1\n",
      "Loaded fold1, layer2\n",
      "Loaded fold1, layer3\n",
      "Loaded fold1, layer4\n",
      "Best_ntree_limit 3437\n",
      "Loaded fold2, layer0\n",
      "Loaded fold2, layer1\n",
      "Loaded fold2, layer2\n",
      "Loaded fold2, layer3\n",
      "Loaded fold2, layer4\n",
      "Best_ntree_limit 1182\n",
      "Loaded fold3, layer0\n",
      "Loaded fold3, layer1\n",
      "Loaded fold3, layer2\n",
      "Loaded fold3, layer3\n",
      "Loaded fold3, layer4\n",
      "Best_ntree_limit 1090\n",
      "Loaded fold4, layer0\n",
      "Loaded fold4, layer1\n",
      "Loaded fold4, layer2\n",
      "Loaded fold4, layer3\n",
      "Loaded fold4, layer4\n",
      "Best_ntree_limit 886\n"
     ]
    }
   ],
   "source": [
    "if DO_SUBMIT:\n",
    "    gc.collect()\n",
    "\n",
    "    # INFER TEST DATA IN PARTS\n",
    "\n",
    "    TEST_SECTIONS = 1\n",
    "    TEST_SUB_SECTIONS = 1\n",
    "\n",
    "    test_preds = []\n",
    "    customers = False\n",
    "    for k in range(TEST_SECTIONS):\n",
    "        for i in range(TEST_SUB_SECTIONS):    \n",
    "            # READ PART OF TEST DATA\n",
    "            print(f'\\nReading test data...')\n",
    "            test = cudf.read_pickle(f'test_fe_v1.pickle')\n",
    "            test = do_miss_nan(test)\n",
    "            if i == 0:\n",
    "                print(f'=> Test part {k+1} has shape', test.shape )\n",
    "                if k == 0:\n",
    "                    customers = test.index.copy()\n",
    "                else:\n",
    "                    customers = customers.append(test.index)\n",
    "\n",
    "            # TEST DATA FOR XGB\n",
    "            X_test = test[features]\n",
    "            n_rows = len(test.index)//TEST_SUB_SECTIONS\n",
    "            print(\".\")\n",
    "            if i+1 < TEST_SUB_SECTIONS:\n",
    "                X_test = X_test.iloc[i*n_rows:(i+1)*n_rows, :].copy()\n",
    "            elif TEST_SUB_SECTIONS > 1:\n",
    "                X_test = X_test.iloc[i*n_rows:, :].copy()\n",
    "            print(f'=> Test piece {k+1}, {i+1} has shape', X_test.shape )\n",
    "            del test\n",
    "            gc.collect()\n",
    "            dtest = xgb.DMatrix(data=X_test)\n",
    "            del X_test\n",
    "            gc.collect()\n",
    "            ## Need to reset to level 0 between folds.\n",
    "            reset_margin = dtest.get_base_margin()\n",
    "\n",
    "            # INFER XGB MODELS ON TEST DATA\n",
    "            print(\".\")\n",
    "            for f in range(FOLDS):\n",
    "                if (f > 0):\n",
    "                    dtest.set_base_margin(reset_margin)\n",
    "                for (layer, w) in enumerate(PYRAMID_W[:-1]):\n",
    "                    model = xgb.Booster()\n",
    "                    model.load_model(f'XGB_v{VER}_fold{f}_layer{layer}.xgb')\n",
    "                    print(f'Loaded fold{f}, layer{layer}')\n",
    "                    ptest = model.predict(dtest, output_margin=True)\n",
    "\n",
    "                    ## reduce the impact of all model layers so far by w. This should be another way to reduce over-specialization, without the computational cost of DART\n",
    "                    if (w < 1.0):\n",
    "                        ptest = ptest * w\n",
    "\n",
    "                    ## This set_base_margin is what informs the next layer of the prior training.\n",
    "                    ## See code example from official demos: https://github.com/dmlc/xgboost/blob/master/demo/guide-python/boost_from_prediction.py\n",
    "                    dtest.set_base_margin(ptest)\n",
    "\n",
    "                layer = len(PYRAMID_W) - 1\n",
    "                model = xgb.Booster()\n",
    "                model.load_model(f'XGB_v{VER}_fold{f}_layer{layer}.xgb')\n",
    "                print(\"Best_ntree_limit\", model.best_ntree_limit//xgb_params['num_parallel_tree'])\n",
    "                if f == 0:\n",
    "                    preds = model.predict(dtest, output_margin=False, iteration_range=(0,model.best_ntree_limit//xgb_params['num_parallel_tree']))\n",
    "                else:\n",
    "                    preds += model.predict(dtest, output_margin=False, iteration_range=(0,model.best_ntree_limit//xgb_params['num_parallel_tree']))\n",
    "            preds /= FOLDS\n",
    "            test_preds.append(preds)\n",
    "\n",
    "            # CLEAN MEMORY\n",
    "            del dtest, model, reset_margin\n",
    "            _ = gc.collect()"
   ]
  },
  {
   "cell_type": "markdown",
   "id": "6d44d9c5",
   "metadata": {
    "_kg_hide-input": false,
    "_kg_hide-output": false,
    "papermill": {
     "duration": 0.040117,
     "end_time": "2022-07-19T00:33:28.731771",
     "exception": false,
     "start_time": "2022-07-19T00:33:28.691654",
     "status": "completed"
    },
    "tags": []
   },
   "source": [
    "# Create Submission CSV"
   ]
  },
  {
   "cell_type": "code",
   "execution_count": 26,
   "id": "c1b6d752",
   "metadata": {
    "_kg_hide-input": false,
    "_kg_hide-output": false,
    "execution": {
     "iopub.execute_input": "2022-07-19T00:33:28.813091Z",
     "iopub.status.busy": "2022-07-19T00:33:28.812736Z",
     "iopub.status.idle": "2022-07-19T00:33:28.820254Z",
     "shell.execute_reply": "2022-07-19T00:33:28.819487Z"
    },
    "papermill": {
     "duration": 0.050071,
     "end_time": "2022-07-19T00:33:28.821899",
     "exception": false,
     "start_time": "2022-07-19T00:33:28.771828",
     "status": "completed"
    },
    "tags": []
   },
   "outputs": [
    {
     "name": "stdout",
     "output_type": "stream",
     "text": [
      "Submission file shape is (924621, 2)\n"
     ]
    },
    {
     "data": {
      "image/png": "[encoded data removed]",
      "text/plain": [
       "<Figure size 432x288 with 1 Axes>"
      ]
     },
     "metadata": {
      "needs_background": "light"
     },
     "output_type": "display_data"
    }
   ],
   "source": [
    "if DO_SUBMIT:\n",
    "    # WRITE SUBMISSION FILE\n",
    "#     test_preds = np.concatenate(test_preds)\n",
    "    test = cudf.DataFrame(index=customers,data={'prediction':test_preds[0]})\n",
    "    sub = cudf.read_csv('../input/amex-default-prediction/sample_submission.csv')[['customer_ID']]\n",
    "#     sub['customer_ID_hash'] = sub['customer_ID'].str[-16:].str.hex_to_int().astype('int64')\n",
    "#     sub = sub.set_index('customer_ID_hash')\n",
    "    sub = sub.merge(test[['prediction']], left_index=True, right_index=True, how='left')\n",
    "    sub = sub.reset_index(drop=True)\n",
    "\n",
    "\n",
    "    # DISPLAY PREDICTIONS\n",
    "    sub.to_csv(f'../sub/submission_xgb.csv',index=False)\n",
    "    print('Submission file shape is', sub.shape )\n",
    "    sub.head()\n",
    "\n",
    "    # PLOT PREDICTIONS\n",
    "    plt.hist(sub.prediction, bins=100)\n",
    "    plt.title('Test Predictions')\n",
    "    plt.show()"
   ]
  },
  {
   "cell_type": "code",
   "execution_count": null,
   "id": "cb356012",
   "metadata": {},
   "outputs": [],
   "source": []
  },
  {
   "cell_type": "code",
   "execution_count": null,
   "id": "2d5d0416",
   "metadata": {},
   "outputs": [],
   "source": []
  },
  {
   "cell_type": "code",
   "execution_count": null,
   "id": "1dd280c3",
   "metadata": {},
   "outputs": [],
   "source": []
  },
  {
   "cell_type": "code",
   "execution_count": null,
   "id": "ed5286d3",
   "metadata": {},
   "outputs": [],
   "source": []
  },
  {
   "cell_type": "code",
   "execution_count": null,
   "id": "2a18bd42",
   "metadata": {},
   "outputs": [],
   "source": []
  },
  {
   "cell_type": "code",
   "execution_count": null,
   "id": "685bcb0b",
   "metadata": {},
   "outputs": [],
   "source": []
  },
  {
   "cell_type": "code",
   "execution_count": null,
   "id": "be603f5e",
   "metadata": {},
   "outputs": [],
   "source": []
  }
 ],
 "metadata": {
  "kernelspec": {
   "display_name": "Python 3 (ipykernel)",
   "language": "python",
   "name": "python3"
  },
  "language_info": {
   "codemirror_mode": {
    "name": "ipython",
    "version": 3
   },
   "file_extension": ".py",
   "mimetype": "text/x-python",
   "name": "python",
   "nbconvert_exporter": "python",
   "pygments_lexer": "ipython3",
   "version": "3.9.7"
  },
  "papermill": {
   "default_parameters": {},
   "duration": 3884.963421,
   "end_time": "2022-07-19T00:33:31.100241",
   "environment_variables": {},
   "exception": null,
   "input_path": "__notebook__.ipynb",
   "output_path": "__notebook__.ipynb",
   "parameters": {},
   "start_time": "2022-07-18T23:28:46.136820",
   "version": "2.3.4"
  }
 },
 "nbformat": 4,
 "nbformat_minor": 5
}
